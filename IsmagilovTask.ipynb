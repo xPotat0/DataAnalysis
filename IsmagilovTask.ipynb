{
 "cells": [
  {
   "cell_type": "code",
   "execution_count": 54,
   "id": "1ef85f35",
   "metadata": {
    "scrolled": true
   },
   "outputs": [
    {
     "data": {
      "text/plain": [
       "<matplotlib.collections.PathCollection at 0x214e4379d90>"
      ]
     },
     "execution_count": 54,
     "metadata": {},
     "output_type": "execute_result"
    },
    {
     "data": {
      "image/png": "[encoded data removed]",
      "text/plain": [
       "<Figure size 432x288 with 1 Axes>"
      ]
     },
     "metadata": {
      "needs_background": "light"
     },
     "output_type": "display_data"
    }
   ],
   "source": [
    "# Import the required modules, numpy for calculation, and Matplotlib for drawing\n",
    "import numpy as np\n",
    "import matplotlib.pyplot as plt\n",
    "\n",
    "# This code is for jupyter Notebook only\n",
    "%matplotlib inline\n",
    "\n",
    "# define data, and change list to array\n",
    "x = [3, 21, 22, 34, 54, 34, 55, 67, 89, 99]\n",
    "x = np.array(x)\n",
    "y = [2, 22, 24, 65, 79, 82, 55, 130, 150, 199]\n",
    "y = np.array(y)\n",
    "\n",
    "# Show the effect of a scatter plot\n",
    "plt.scatter(x, y)\n"
   ]
  },
  {
   "cell_type": "code",
   "execution_count": 55,
   "id": "2fadeea5",
   "metadata": {},
   "outputs": [
    {
     "name": "stdout",
     "output_type": "stream",
     "text": [
      "[0.34669601]\n",
      "[0.7676049]\n",
      "[0.35107537] [0.76766836] 3226.116467455496\n"
     ]
    },
    {
     "data": {
      "text/plain": [
       "[<matplotlib.lines.Line2D at 0x214e43fe340>]"
      ]
     },
     "execution_count": 55,
     "metadata": {},
     "output_type": "execute_result"
    },
    {
     "data": {
      "image/png": "[encoded data removed]",
      "text/plain": [
       "<Figure size 432x288 with 1 Axes>"
      ]
     },
     "metadata": {
      "needs_background": "light"
     },
     "output_type": "display_data"
    }
   ],
   "source": [
    "def model(a, b, x):\n",
    "    return a*x + b\n",
    "\n",
    "def loss_function(a, b, x, y):\n",
    "    num = len(x)\n",
    "    prediction = model(a,b,x)\n",
    "    return (0.5/num) * (np.square(prediction-y)).sum()\n",
    "\n",
    "def optimize(a,b,x,y):\n",
    "    num = len(x)\n",
    "    prediction = model(a,b,x)\n",
    "    da = (1.0/num) * ((prediction-y)*x).sum()\n",
    "    db = (1.0/num) * ((prediction -y).sum())\n",
    "    a = a - Lr*da\n",
    "    b = b - Lr*db\n",
    "    return a,b\n",
    "\n",
    "def iterate(a,b,x,y,times):\n",
    "    for i in range(times):\n",
    "        a,b = optimize(a,b,x,y)\n",
    "    return a,b\n",
    "\n",
    "a = np.random.rand(1)\n",
    "print(a)\n",
    "b = np.random.rand(1)\n",
    "print(b)\n",
    "Lr = 0.000001\n",
    "\n",
    "a,b=iterate(a,b,x,y,1)\n",
    "prediction=model(a,b,x)\n",
    "loss = loss_function(a,b,x,y)\n",
    "print(a,b,loss)\n",
    "plt.scatter(x,y)\n",
    "plt.plot(x,prediction)"
   ]
  },
  {
   "cell_type": "code",
   "execution_count": 56,
   "id": "33dc637f",
   "metadata": {},
   "outputs": [
    {
     "name": "stdout",
     "output_type": "stream",
     "text": [
      "[0.39125012]\n",
      "[0.08563668]\n",
      "[0.39978082] [0.0857605] 3058.988359583681\n"
     ]
    },
    {
     "data": {
      "text/plain": [
       "[<matplotlib.lines.Line2D at 0x214e44669d0>]"
      ]
     },
     "execution_count": 56,
     "metadata": {},
     "output_type": "execute_result"
    },
    {
     "data": {
      "image/png": "[encoded data removed]",
      "text/plain": [
       "<Figure size 432x288 with 1 Axes>"
      ]
     },
     "metadata": {
      "needs_background": "light"
     },
     "output_type": "display_data"
    }
   ],
   "source": [
    "def model(a, b, x):\n",
    "    return a*x + b\n",
    "\n",
    "def loss_function(a, b, x, y):\n",
    "    num = len(x)\n",
    "    prediction = model(a,b,x)\n",
    "    return (0.5/num) * (np.square(prediction-y)).sum()\n",
    "\n",
    "def optimize(a,b,x,y):\n",
    "    num = len(x)\n",
    "    prediction = model(a,b,x)\n",
    "    da = (1.0/num) * ((prediction-y)*x).sum()\n",
    "    db = (1.0/num) * ((prediction -y).sum())\n",
    "    a = a - Lr*da\n",
    "    b = b - Lr*db\n",
    "    return a,b\n",
    "\n",
    "def iterate(a,b,x,y,times):\n",
    "    for i in range(times):\n",
    "        a,b = optimize(a,b,x,y)\n",
    "    return a,b\n",
    "\n",
    "a = np.random.rand(1)\n",
    "print(a)\n",
    "b = np.random.rand(1)\n",
    "print(b)\n",
    "Lr = 0.000001\n",
    "\n",
    "a,b=iterate(a,b,x,y,2)\n",
    "prediction=model(a,b,x)\n",
    "loss = loss_function(a,b,x,y)\n",
    "print(a,b,loss)\n",
    "plt.scatter(x,y)\n",
    "plt.plot(x,prediction)"
   ]
  },
  {
   "cell_type": "code",
   "execution_count": 57,
   "id": "a63df865",
   "metadata": {},
   "outputs": [
    {
     "name": "stdout",
     "output_type": "stream",
     "text": [
      "[0.31616054]\n",
      "[0.31342847]\n",
      "[0.32960903] [0.31362395] 3349.840992656934\n"
     ]
    },
    {
     "data": {
      "text/plain": [
       "[<matplotlib.lines.Line2D at 0x214e44cee50>]"
      ]
     },
     "execution_count": 57,
     "metadata": {},
     "output_type": "execute_result"
    },
    {
     "data": {
      "image/png": "[encoded data removed]",
      "text/plain": [
       "<Figure size 432x288 with 1 Axes>"
      ]
     },
     "metadata": {
      "needs_background": "light"
     },
     "output_type": "display_data"
    }
   ],
   "source": [
    "def model(a, b, x):\n",
    "    return a*x + b\n",
    "\n",
    "def loss_function(a, b, x, y):\n",
    "    num = len(x)\n",
    "    prediction = model(a,b,x)\n",
    "    return (0.5/num) * (np.square(prediction-y)).sum()\n",
    "\n",
    "def optimize(a,b,x,y):\n",
    "    num = len(x)\n",
    "    prediction = model(a,b,x)\n",
    "    da = (1.0/num) * ((prediction-y)*x).sum()\n",
    "    db = (1.0/num) * ((prediction -y).sum())\n",
    "    a = a - Lr*da\n",
    "    b = b - Lr*db\n",
    "    return a,b\n",
    "\n",
    "def iterate(a,b,x,y,times):\n",
    "    for i in range(times):\n",
    "        a,b = optimize(a,b,x,y)\n",
    "    return a,b\n",
    "\n",
    "a = np.random.rand(1)\n",
    "print(a)\n",
    "b = np.random.rand(1)\n",
    "print(b)\n",
    "Lr = 0.000001\n",
    "\n",
    "a,b=iterate(a,b,x,y,3)\n",
    "prediction=model(a,b,x)\n",
    "loss = loss_function(a,b,x,y)\n",
    "print(a,b,loss)\n",
    "plt.scatter(x,y)\n",
    "plt.plot(x,prediction)"
   ]
  },
  {
   "cell_type": "code",
   "execution_count": 58,
   "id": "3f32fa3e",
   "metadata": {},
   "outputs": [
    {
     "name": "stdout",
     "output_type": "stream",
     "text": [
      "[0.99144855]\n",
      "[0.70283601]\n",
      "[1.00083643] [0.70296616] 1054.400410814627\n"
     ]
    },
    {
     "data": {
      "text/plain": [
       "[<matplotlib.lines.Line2D at 0x214e4549550>]"
      ]
     },
     "execution_count": 58,
     "metadata": {},
     "output_type": "execute_result"
    },
    {
     "data": {
      "image/png": "[encoded data removed]",
      "text/plain": [
       "<Figure size 432x288 with 1 Axes>"
      ]
     },
     "metadata": {
      "needs_background": "light"
     },
     "output_type": "display_data"
    }
   ],
   "source": [
    "def model(a, b, x):\n",
    "    return a*x + b\n",
    "\n",
    "def loss_function(a, b, x, y):\n",
    "    num = len(x)\n",
    "    prediction = model(a,b,x)\n",
    "    return (0.5/num) * (np.square(prediction-y)).sum()\n",
    "\n",
    "def optimize(a,b,x,y):\n",
    "    num = len(x)\n",
    "    prediction = model(a,b,x)\n",
    "    da = (1.0/num) * ((prediction-y)*x).sum()\n",
    "    db = (1.0/num) * ((prediction -y).sum())\n",
    "    a = a - Lr*da\n",
    "    b = b - Lr*db\n",
    "    return a,b\n",
    "\n",
    "def iterate(a,b,x,y,times):\n",
    "    for i in range(times):\n",
    "        a,b = optimize(a,b,x,y)\n",
    "    return a,b\n",
    "\n",
    "a = np.random.rand(1)\n",
    "print(a)\n",
    "b = np.random.rand(1)\n",
    "print(b)\n",
    "Lr = 0.000001\n",
    "\n",
    "a,b=iterate(a,b,x,y,4)\n",
    "prediction=model(a,b,x)\n",
    "loss = loss_function(a,b,x,y)\n",
    "print(a,b,loss)\n",
    "plt.scatter(x,y)\n",
    "plt.plot(x,prediction)"
   ]
  },
  {
   "cell_type": "code",
   "execution_count": 59,
   "id": "591e5957",
   "metadata": {},
   "outputs": [
    {
     "name": "stdout",
     "output_type": "stream",
     "text": [
      "[0.78383722]\n",
      "[0.45682531]\n",
      "[0.79885098] [0.45703825] 1599.124611189296\n"
     ]
    },
    {
     "data": {
      "text/plain": [
       "[<matplotlib.lines.Line2D at 0x214e45b1ac0>]"
      ]
     },
     "execution_count": 59,
     "metadata": {},
     "output_type": "execute_result"
    },
    {
     "data": {
      "image/png": "[encoded data removed]",
      "text/plain": [
       "<Figure size 432x288 with 1 Axes>"
      ]
     },
     "metadata": {
      "needs_background": "light"
     },
     "output_type": "display_data"
    }
   ],
   "source": [
    "def model(a, b, x):\n",
    "    return a*x + b\n",
    "\n",
    "def loss_function(a, b, x, y):\n",
    "    num = len(x)\n",
    "    prediction = model(a,b,x)\n",
    "    return (0.5/num) * (np.square(prediction-y)).sum()\n",
    "\n",
    "def optimize(a,b,x,y):\n",
    "    num = len(x)\n",
    "    prediction = model(a,b,x)\n",
    "    da = (1.0/num) * ((prediction-y)*x).sum()\n",
    "    db = (1.0/num) * ((prediction -y).sum())\n",
    "    a = a - Lr*da\n",
    "    b = b - Lr*db\n",
    "    return a,b\n",
    "\n",
    "def iterate(a,b,x,y,times):\n",
    "    for i in range(times):\n",
    "        a,b = optimize(a,b,x,y)\n",
    "    return a,b\n",
    "\n",
    "a = np.random.rand(1)\n",
    "print(a)\n",
    "b = np.random.rand(1)\n",
    "print(b)\n",
    "Lr = 0.000001\n",
    "\n",
    "a,b=iterate(a,b,x,y,5)\n",
    "prediction=model(a,b,x)\n",
    "loss = loss_function(a,b,x,y)\n",
    "print(a,b,loss)\n",
    "plt.scatter(x,y)\n",
    "plt.plot(x,prediction)"
   ]
  },
  {
   "cell_type": "code",
   "execution_count": 60,
   "id": "e60fb95f",
   "metadata": {},
   "outputs": [
    {
     "name": "stdout",
     "output_type": "stream",
     "text": [
      "[0.79058246]\n",
      "[0.4779891]\n",
      "[1.7461322] [0.46122426] 190.1663016506251\n"
     ]
    },
    {
     "data": {
      "text/plain": [
       "[<matplotlib.lines.Line2D at 0x214e4627130>]"
      ]
     },
     "execution_count": 60,
     "metadata": {},
     "output_type": "execute_result"
    },
    {
     "data": {
      "image/png": "[encoded data removed]",
      "text/plain": [
       "<Figure size 432x288 with 1 Axes>"
      ]
     },
     "metadata": {
      "needs_background": "light"
     },
     "output_type": "display_data"
    }
   ],
   "source": [
    "def model(a, b, x):\n",
    "    return a*x + b\n",
    "\n",
    "def loss_function(a, b, x, y):\n",
    "    num = len(x)\n",
    "    prediction = model(a,b,x)\n",
    "    return (0.5/num) * (np.square(prediction-y)).sum()\n",
    "\n",
    "def optimize(a,b,x,y):\n",
    "    num = len(x)\n",
    "    prediction = model(a,b,x)\n",
    "    da = (1.0/num) * ((prediction-y)*x).sum()\n",
    "    db = (1.0/num) * ((prediction -y).sum())\n",
    "    a = a - Lr*da\n",
    "    b = b - Lr*db\n",
    "    return a,b\n",
    "\n",
    "def iterate(a,b,x,y,times):\n",
    "    for i in range(times):\n",
    "        a,b = optimize(a,b,x,y)\n",
    "    return a,b\n",
    "\n",
    "a = np.random.rand(1)\n",
    "print(a)\n",
    "b = np.random.rand(1)\n",
    "print(b)\n",
    "Lr = 0.000001\n",
    "\n",
    "a,b=iterate(a,b,x,y,10000)\n",
    "prediction=model(a,b,x)\n",
    "loss = loss_function(a,b,x,y)\n",
    "print(a,b,loss)\n",
    "plt.scatter(x,y)\n",
    "plt.plot(x,prediction)"
   ]
  },
  {
   "cell_type": "code",
   "execution_count": null,
   "id": "73c556de",
   "metadata": {},
   "outputs": [],
   "source": []
  },
  {
   "cell_type": "code",
   "execution_count": null,
   "id": "36ddbfb8",
   "metadata": {},
   "outputs": [],
   "source": []
  }
 ],
 "metadata": {
  "kernelspec": {
   "display_name": "Python 3 (ipykernel)",
   "language": "python",
   "name": "python3"
  },
  "language_info": {
   "codemirror_mode": {
    "name": "ipython",
    "version": 3
   },
   "file_extension": ".py",
   "mimetype": "text/x-python",
   "name": "python",
   "nbconvert_exporter": "python",
   "pygments_lexer": "ipython3",
   "version": "3.9.12"
  }
 },
 "nbformat": 4,
 "nbformat_minor": 5
}
